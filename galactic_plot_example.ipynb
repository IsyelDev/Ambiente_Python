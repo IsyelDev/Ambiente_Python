{
 "cells": [
  {
   "cell_type": "code",
   "execution_count": null,
   "metadata": {},
   "outputs": [],
   "source": [
    "# %matplotlib inline (opcional si VS Code ya embebe gráficos)\n",
    "import matplotlib.pyplot as plt\n",
    "from astropy.coordinates import SkyCoord, Galactocentric, ICRS\n",
    "import astropy.units as u\n",
    "import numpy as np\n",
    "\n",
    "# Simulando datos como en el ejemplo\n",
    "ring_distances = [10, 15, 20, 25]  # en kpc\n",
    "galcen_distance = 8 * u.kpc\n",
    "gc_frame = Galactocentric(galcen_distance=galcen_distance)\n",
    "\n",
    "# Crear anillos en coordenadas Galactocéntricas\n",
    "theta = np.linspace(0, 2 * np.pi, 360)\n",
    "gc_rings = SkyCoord(\n",
    "    x=np.array([r * np.cos(theta) for r in ring_distances]) * u.kpc,\n",
    "    y=np.array([r * np.sin(theta) for r in ring_distances]) * u.kpc,\n",
    "    z=np.zeros((len(ring_distances), len(theta))) * u.kpc,\n",
    "    frame=gc_frame\n",
    ")\n",
    "\n",
    "# Convertir a coordenadas galácticas\n",
    "gal_rings = gc_rings.transform_to('galactic')\n",
    "\n",
    "# Graficar\n",
    "fig, ax = plt.subplots(1, 1, figsize=(10, 6))\n",
    "for i, r in enumerate(ring_distances):\n",
    "    ax.plot(gal_rings[i].l.degree, gal_rings[i].b.cos() * gal_rings[i].b.value,\n",
    "            label=f\"{r}.0 kpc\")\n",
    "\n",
    "ax.set_xlim(360, 0)\n",
    "ax.set_xlabel(\"l [deg]\")\n",
    "ax.set_ylabel(\"b * cos(b) [deg]\")\n",
    "ax.legend()\n",
    "plt.show()"
   ]
  }
 ],
 "metadata": {
  "kernelspec": {
   "display_name": "base",
   "language": "python",
   "name": "python3"
  },
  "language_info": {
   "name": "python",
   "version": "3.12.7"
  }
 },
 "nbformat": 4,
 "nbformat_minor": 5
}
