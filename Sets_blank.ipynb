{
 "cells": [
  {
   "cell_type": "markdown",
   "metadata": {},
   "source": [
    "# Sets"
   ]
  },
  {
   "cell_type": "markdown",
   "metadata": {},
   "source": [
    "### 1. ¿Qué son los sets en Python?"
   ]
  },
  {
   "cell_type": "markdown",
   "metadata": {},
   "source": [
    "Los sets son un tipo de datos en Python que permite almacenar múltiples elementos en una misma variable. A diferencia de las listas, la colección de elementos que forman un set: \n",
    "1. No se puede indexar\n",
    "2. No respeta un orden\n",
    "3. No puede contener valores duplicados"
   ]
  },
  {
   "cell_type": "markdown",
   "metadata": {},
   "source": [
    "Los set se representan dentro de python con el tipo de dato `set`. La sintaxis que se utiliza para definir un set en Python es la siguiente: `{val1, val2, ..., valn}`"
   ]
  },
  {
   "cell_type": "code",
   "execution_count": null,
   "metadata": {},
   "outputs": [],
   "source": []
  },
  {
   "cell_type": "code",
   "execution_count": null,
   "metadata": {},
   "outputs": [],
   "source": []
  },
  {
   "cell_type": "code",
   "execution_count": null,
   "metadata": {},
   "outputs": [],
   "source": []
  },
  {
   "cell_type": "markdown",
   "metadata": {},
   "source": [
    "### 2. Funcionamiento de un set"
   ]
  },
  {
   "cell_type": "markdown",
   "metadata": {},
   "source": [
    "Debido a las características que presentea este tipo de dato, suele utilizarse para casos de uso muy específicos, como eliminar elementos duplicados de una lista o implementar algunas operaciones matemáticas como la intersección de dos conjuntos."
   ]
  },
  {
   "cell_type": "code",
   "execution_count": null,
   "metadata": {},
   "outputs": [],
   "source": []
  },
  {
   "cell_type": "code",
   "execution_count": null,
   "metadata": {},
   "outputs": [],
   "source": []
  },
  {
   "cell_type": "code",
   "execution_count": null,
   "metadata": {},
   "outputs": [],
   "source": []
  },
  {
   "cell_type": "code",
   "execution_count": null,
   "metadata": {},
   "outputs": [],
   "source": []
  },
  {
   "cell_type": "code",
   "execution_count": null,
   "metadata": {},
   "outputs": [],
   "source": []
  },
  {
   "cell_type": "code",
   "execution_count": null,
   "metadata": {},
   "outputs": [],
   "source": []
  },
  {
   "cell_type": "code",
   "execution_count": null,
   "metadata": {},
   "outputs": [],
   "source": []
  },
  {
   "cell_type": "markdown",
   "metadata": {},
   "source": [
    "### 3. Frozenset"
   ]
  },
  {
   "cell_type": "markdown",
   "metadata": {},
   "source": [
    "Es un tipo de dato exactamente igual que un set, con la diferencia de que es inmutable."
   ]
  },
  {
   "cell_type": "code",
   "execution_count": 7,
   "metadata": {},
   "outputs": [],
   "source": [
    "v = frozenset({1,2,6,5,8}) "
   ]
  },
  {
   "cell_type": "code",
   "execution_count": 8,
   "metadata": {},
   "outputs": [
    {
     "data": {
      "text/plain": [
       "frozenset({1, 2, 5, 6, 8})"
      ]
     },
     "execution_count": 8,
     "metadata": {},
     "output_type": "execute_result"
    }
   ],
   "source": [
    "v"
   ]
  },
  {
   "cell_type": "code",
   "execution_count": 11,
   "metadata": {},
   "outputs": [
    {
     "data": {
      "text/plain": [
       "frozenset({1, 2, 5, 6, 8})"
      ]
     },
     "execution_count": 11,
     "metadata": {},
     "output_type": "execute_result"
    }
   ],
   "source": [
    "v"
   ]
  },
  {
   "cell_type": "code",
   "execution_count": null,
   "metadata": {},
   "outputs": [],
   "source": [
    "\"\"\"\n",
    "El programa tendrá una función llamada revisar_coleccion que toma un argumento: coleccion. Esta lista representa una colección de arte donde algunas piezas pueden estar duplicadas.\n",
    "\n",
    "Dentro de la función, realiza las siguientes operaciones:\n",
    "\n",
    "Convierte coleccion en un set para eliminar las piezas de arte duplicadas, asegurando que cada obra sea única.\n",
    "\n",
    "Convierte el set resultante de nuevo en una lista para mantener el formato original de la colección.\n",
    "\n",
    "La función debe retornar la lista actualizada de la colección sin duplicados.\n",
    "\n",
    "Fuera de la función, imprime la colección de arte antes y después de la revisión para mostrar la eliminación de elementos duplicados.\"\"\""
   ]
  },
  {
   "cell_type": "code",
   "execution_count": 12,
   "metadata": {},
   "outputs": [],
   "source": [
    "coleccion = [\n",
    "    \"Mona Lisa\", \"El Grito\", \"Mona Lisa\", \"La Noche Estrellada\",\n",
    "    \"Las Meninas\", \"Guernica\", \"La Última Cena\", \"La Creación de Adán\",\n",
    "    \"La Persistencia de la Memoria\", \"La Libertad guiando al pueblo\",\n",
    "    \"El Beso\", \"Nacimiento de Venus\", \"El Jardín de las Delicias\",\n",
    "    \"La Joven de la Perla\", \"El David\",\n",
    "    \"Los Girasoles\", \"La Gran Ola de Kanagawa\",\n",
    "    \"La Ronda Nocturna\", \"American Gothic\",\n",
    "    \"Los Jugadores de Cartas\", \"La Noche Estrellada\",\n",
    "    \"La Última Cena\", \"Guernica\", \"Las Meninas\",\n",
    "    \"La Persistencia de la Memoria\", \"Mona Lisa\"\n",
    "]\n",
    "\n",
    "def revisar_coleccion(coleccion):\n",
    "    return list(set(coleccion))\n"
   ]
  },
  {
   "cell_type": "code",
   "execution_count": 14,
   "metadata": {},
   "outputs": [],
   "source": [
    "antes= coleccion\n",
    "despues =revisar_coleccion(coleccion)"
   ]
  },
  {
   "cell_type": "code",
   "execution_count": 15,
   "metadata": {},
   "outputs": [
    {
     "name": "stdout",
     "output_type": "stream",
     "text": [
      "['Mona Lisa', 'El Grito', 'Mona Lisa', 'La Noche Estrellada', 'Las Meninas', 'Guernica', 'La Última Cena', 'La Creación de Adán', 'La Persistencia de la Memoria', 'La Libertad guiando al pueblo', 'El Beso', 'Nacimiento de Venus', 'El Jardín de las Delicias', 'La Joven de la Perla', 'El David', 'Los Girasoles', 'La Gran Ola de Kanagawa', 'La Ronda Nocturna', 'American Gothic', 'Los Jugadores de Cartas', 'La Noche Estrellada', 'La Última Cena', 'Guernica', 'Las Meninas', 'La Persistencia de la Memoria', 'Mona Lisa']\n",
      "['El Jardín de las Delicias', 'El Beso', 'La Joven de la Perla', 'La Creación de Adán', 'Los Jugadores de Cartas', 'Nacimiento de Venus', 'Los Girasoles', 'American Gothic', 'La Libertad guiando al pueblo', 'La Noche Estrellada', 'La Gran Ola de Kanagawa', 'La Última Cena', 'La Ronda Nocturna', 'Mona Lisa', 'Guernica', 'Las Meninas', 'La Persistencia de la Memoria', 'El Grito', 'El David']\n"
     ]
    }
   ],
   "source": [
    "print(antes)\n",
    "print(despues)"
   ]
  },
  {
   "cell_type": "code",
   "execution_count": 16,
   "metadata": {},
   "outputs": [
    {
     "name": "stdout",
     "output_type": "stream",
     "text": [
      "Mensaje original:\n",
      "b'Mensaje secreto oculto'\n",
      "\n",
      "Mensaje codificado:\n",
      "4d6e61657363656f6f7574b'Mnaesceoout'0b10011010b1110100\n"
     ]
    }
   ],
   "source": [
    "def crear_codigo_secreto(mensaje):\n",
    "    # Bytes en posición par\n",
    "    bytes_pares = mensaje[::2]\n",
    "    \n",
    "    # Hexadecimal\n",
    "    repr_hex = bytes_pares.hex()\n",
    "    \n",
    "    # Binarios\n",
    "    repr_bin = bytes_pares\n",
    "    repr_bin_primero = bin(repr_bin[0])\n",
    "    repr_bin_ultimo = bin(repr_bin[-1])\n",
    "    \n",
    "    # Concatenar todos como string\n",
    "    codigo_secreto = repr_hex + str(repr_bin) + repr_bin_primero + repr_bin_ultimo\n",
    "    return codigo_secreto\n",
    "\n",
    "# Ejemplo de mensaje (cadena de bytes)\n",
    "mensaje = b\"Mensaje secreto oculto\"\n",
    "\n",
    "# Impresión\n",
    "print(\"Mensaje original:\")\n",
    "print(mensaje)\n",
    "\n",
    "print(\"\\nMensaje codificado:\")\n",
    "print(crear_codigo_secreto(mensaje))\n"
   ]
  }
 ],
 "metadata": {
  "kernelspec": {
   "display_name": "base",
   "language": "python",
   "name": "python3"
  },
  "language_info": {
   "codemirror_mode": {
    "name": "ipython",
    "version": 3
   },
   "file_extension": ".py",
   "mimetype": "text/x-python",
   "name": "python",
   "nbconvert_exporter": "python",
   "pygments_lexer": "ipython3",
   "version": "3.12.7"
  }
 },
 "nbformat": 4,
 "nbformat_minor": 4
}
